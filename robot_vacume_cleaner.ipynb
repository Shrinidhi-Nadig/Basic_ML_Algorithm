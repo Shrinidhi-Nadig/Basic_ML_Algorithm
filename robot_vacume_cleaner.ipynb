{
  "nbformat": 4,
  "nbformat_minor": 0,
  "metadata": {
    "colab": {
      "provenance": [],
      "authorship_tag": "ABX9TyNjBSZT2JuJ/K+BcDi2clCV",
      "include_colab_link": true
    },
    "kernelspec": {
      "name": "python3",
      "display_name": "Python 3"
    },
    "language_info": {
      "name": "python"
    }
  },
  "cells": [
    {
      "cell_type": "markdown",
      "metadata": {
        "id": "view-in-github",
        "colab_type": "text"
      },
      "source": [
        "<a href=\"https://colab.research.google.com/github/Shrinidhi-Nadig/Basic_ML_Algorithm/blob/main/robot_vacume_cleaner.ipynb\" target=\"_parent\"><img src=\"https://colab.research.google.com/assets/colab-badge.svg\" alt=\"Open In Colab\"/></a>"
      ]
    },
    {
      "cell_type": "code",
      "execution_count": null,
      "metadata": {
        "colab": {
          "base_uri": "https://localhost:8080/"
        },
        "id": "PN4efnkVmWFP",
        "outputId": "600953d9-a3b7-484a-d137-20d0b4880c8c"
      },
      "outputs": [
        {
          "output_type": "stream",
          "name": "stdout",
          "text": [
            "Requirement already satisfied: pandas in /usr/local/lib/python3.11/dist-packages (2.2.2)\n",
            "Requirement already satisfied: numpy>=1.23.2 in /usr/local/lib/python3.11/dist-packages (from pandas) (2.0.2)\n",
            "Requirement already satisfied: python-dateutil>=2.8.2 in /usr/local/lib/python3.11/dist-packages (from pandas) (2.8.2)\n",
            "Requirement already satisfied: pytz>=2020.1 in /usr/local/lib/python3.11/dist-packages (from pandas) (2025.1)\n",
            "Requirement already satisfied: tzdata>=2022.7 in /usr/local/lib/python3.11/dist-packages (from pandas) (2025.1)\n",
            "Requirement already satisfied: six>=1.5 in /usr/local/lib/python3.11/dist-packages (from python-dateutil>=2.8.2->pandas) (1.17.0)\n"
          ]
        }
      ],
      "source": [
        "!pip install pandas"
      ]
    },
    {
      "cell_type": "code",
      "source": [
        "import pandas as pd"
      ],
      "metadata": {
        "id": "H3Rw4XlPmdB-"
      },
      "execution_count": null,
      "outputs": []
    },
    {
      "cell_type": "code",
      "source": [
        "df.isnull()"
      ],
      "metadata": {
        "colab": {
          "base_uri": "https://localhost:8080/",
          "height": 141
        },
        "id": "CKrsS6VxnwJO",
        "outputId": "1c679223-1bc0-449d-f874-b8ce06a91e28"
      },
      "execution_count": null,
      "outputs": [
        {
          "output_type": "error",
          "ename": "NameError",
          "evalue": "name 'df' is not defined",
          "traceback": [
            "\u001b[0;31m---------------------------------------------------------------------------\u001b[0m",
            "\u001b[0;31mNameError\u001b[0m                                 Traceback (most recent call last)",
            "\u001b[0;32m<ipython-input-46-cc81fd27034f>\u001b[0m in \u001b[0;36m<cell line: 0>\u001b[0;34m()\u001b[0m\n\u001b[0;32m----> 1\u001b[0;31m \u001b[0mdf\u001b[0m\u001b[0;34m.\u001b[0m\u001b[0misnull\u001b[0m\u001b[0;34m(\u001b[0m\u001b[0;34m)\u001b[0m\u001b[0;34m\u001b[0m\u001b[0;34m\u001b[0m\u001b[0m\n\u001b[0m",
            "\u001b[0;31mNameError\u001b[0m: name 'df' is not defined"
          ]
        }
      ]
    },
    {
      "cell_type": "code",
      "source": [
        "df.iloc[0:5]"
      ],
      "metadata": {
        "id": "Kv4T8QYop-N0"
      },
      "execution_count": null,
      "outputs": []
    },
    {
      "cell_type": "code",
      "source": [
        "df.tail()"
      ],
      "metadata": {
        "id": "U-fy9EJoqF4s"
      },
      "execution_count": null,
      "outputs": []
    },
    {
      "cell_type": "code",
      "source": [
        "df.dtypes"
      ],
      "metadata": {
        "id": "pJsFpZH5sxQH"
      },
      "execution_count": null,
      "outputs": []
    },
    {
      "cell_type": "code",
      "source": [
        "df.describe()"
      ],
      "metadata": {
        "id": "ntGY8DxnuLob"
      },
      "execution_count": null,
      "outputs": []
    },
    {
      "cell_type": "code",
      "source": [
        "df.iloc[50:56]"
      ],
      "metadata": {
        "id": "PCtMkF0TuOpk"
      },
      "execution_count": null,
      "outputs": []
    },
    {
      "cell_type": "code",
      "source": [
        "df.iloc[99]"
      ],
      "metadata": {
        "id": "Hk2ywS5buils"
      },
      "execution_count": null,
      "outputs": []
    },
    {
      "cell_type": "code",
      "source": [
        "df.iloc[:,[2,3]]"
      ],
      "metadata": {
        "id": "0LEbb6Bquqta"
      },
      "execution_count": null,
      "outputs": []
    },
    {
      "cell_type": "code",
      "source": [
        "df.iloc[39:50,[0,3,4]]"
      ],
      "metadata": {
        "id": "tfQ8OwQPwVze"
      },
      "execution_count": null,
      "outputs": []
    },
    {
      "cell_type": "code",
      "source": [
        "df.iloc[:15,[5,6]]"
      ],
      "metadata": {
        "id": "faj69voTxJZ6"
      },
      "execution_count": null,
      "outputs": []
    },
    {
      "cell_type": "code",
      "source": [
        "df.iloc['User Rating'>4.5]"
      ],
      "metadata": {
        "id": "DcJdIEsRya3t"
      },
      "execution_count": null,
      "outputs": []
    },
    {
      "cell_type": "code",
      "source": [
        "df.iloc[:,[2,3]]"
      ],
      "metadata": {
        "id": "tzqHYch6qNgc"
      },
      "execution_count": null,
      "outputs": []
    },
    {
      "cell_type": "code",
      "source": [],
      "metadata": {
        "id": "nVwFdJr6uJTU"
      },
      "execution_count": null,
      "outputs": []
    },
    {
      "cell_type": "code",
      "source": [
        "df.iloc[0:6,[0,1]]"
      ],
      "metadata": {
        "id": "JumzwgBDqZBL"
      },
      "execution_count": null,
      "outputs": []
    },
    {
      "cell_type": "code",
      "source": [
        "df['sepal.length']>6"
      ],
      "metadata": {
        "id": "kDjNnOwNrXyF"
      },
      "execution_count": null,
      "outputs": []
    },
    {
      "cell_type": "code",
      "source": [
        "df['variety']=='setosa'"
      ],
      "metadata": {
        "id": "5GOASO5ctMJd"
      },
      "execution_count": null,
      "outputs": []
    },
    {
      "cell_type": "code",
      "source": [
        "df['petal_sepal_ratio']=df['petal.length']/df['sepal.length']"
      ],
      "metadata": {
        "id": "jFn3-9Rat5db"
      },
      "execution_count": null,
      "outputs": []
    },
    {
      "cell_type": "code",
      "source": [
        "df.head()"
      ],
      "metadata": {
        "id": "vpmTafh0v767"
      },
      "execution_count": null,
      "outputs": []
    },
    {
      "cell_type": "code",
      "source": [
        "df.to_csv('iris(4).csv', index=False)"
      ],
      "metadata": {
        "id": "O6r6Kp0cwMcr"
      },
      "execution_count": null,
      "outputs": []
    },
    {
      "cell_type": "code",
      "source": [
        "df['variety'].value_counts()"
      ],
      "metadata": {
        "id": "_LHZXBm7ws30"
      },
      "execution_count": null,
      "outputs": []
    },
    {
      "cell_type": "code",
      "source": [
        "room=[\n",
        "    [1,1,1,1],\n",
        "    [1,1,1,1],\n",
        "    [1,1,1,1],\n",
        "    [1,1,1,1]\n",
        "]"
      ],
      "metadata": {
        "id": "_S9zkxNkq2Ni"
      },
      "execution_count": null,
      "outputs": []
    },
    {
      "cell_type": "code",
      "source": [
        "print(\"All the rooms are dirty\")\n",
        "display(room)"
      ],
      "metadata": {
        "colab": {
          "base_uri": "https://localhost:8080/",
          "height": 52
        },
        "id": "9cC8e9kyrCw5",
        "outputId": "8fedd9b9-930f-4ca6-938d-517ede6c7920"
      },
      "execution_count": null,
      "outputs": [
        {
          "output_type": "stream",
          "name": "stdout",
          "text": [
            "All the rooms are dirty\n"
          ]
        },
        {
          "output_type": "display_data",
          "data": {
            "text/plain": [
              "[[1, 1, 1, 1], [1, 1, 1, 1], [1, 1, 1, 1], [1, 1, 1, 1]]"
            ]
          },
          "metadata": {}
        }
      ]
    },
    {
      "cell_type": "code",
      "source": [
        "x=0\n",
        "y=0"
      ],
      "metadata": {
        "id": "ObJSjssPrJpq"
      },
      "execution_count": null,
      "outputs": []
    },
    {
      "cell_type": "code",
      "source": [
        "import random"
      ],
      "metadata": {
        "id": "_rwyywLJueAq"
      },
      "execution_count": null,
      "outputs": []
    },
    {
      "cell_type": "code",
      "source": [
        "\n",
        "while x<4:\n",
        "  while y<4:\n",
        "    room[x][y] =random.choice([0,1])\n",
        "    y+=1\n",
        "  x=x+1\n",
        "  y=0\n",
        "print(\"Before cleaning the room i detect all of these random dirts\")\n",
        "display(room)"
      ],
      "metadata": {
        "colab": {
          "base_uri": "https://localhost:8080/",
          "height": 52
        },
        "id": "wZDw75zlrZIp",
        "outputId": "70795621-3126-4cd7-a05c-d6a27794cc87"
      },
      "execution_count": null,
      "outputs": [
        {
          "output_type": "stream",
          "name": "stdout",
          "text": [
            "Before cleaning the room i detect all of these random dirts\n"
          ]
        },
        {
          "output_type": "display_data",
          "data": {
            "text/plain": [
              "[[0, 0, 0, 1], [0, 1, 0, 1], [1, 1, 1, 0], [1, 1, 0, 1]]"
            ]
          },
          "metadata": {}
        }
      ]
    },
    {
      "cell_type": "code",
      "source": [
        "x=0\n",
        "y=0\n",
        "z=0"
      ],
      "metadata": {
        "id": "WLJXtQger5wK"
      },
      "execution_count": null,
      "outputs": []
    },
    {
      "cell_type": "code",
      "source": [
        "while x<4:\n",
        "  while y<4:\n",
        "    if room[x][y]==1:\n",
        "      print(\"vacume in this location now: \",x,y)\n",
        "      room[x][y]=0\n",
        "      print(\"cleaned: \",x,y)\n",
        "      z+=1\n",
        "    y+=1\n",
        "  x+=1\n",
        "  y=0"
      ],
      "metadata": {
        "colab": {
          "base_uri": "https://localhost:8080/"
        },
        "id": "Ri-dDC-PsIBh",
        "outputId": "ebbcff1b-fa85-42d4-e499-52a937ada75c"
      },
      "execution_count": null,
      "outputs": [
        {
          "output_type": "stream",
          "name": "stdout",
          "text": [
            "vacume in this location now:  0 3\n",
            "cleaned:  0 3\n",
            "vacume in this location now:  1 1\n",
            "cleaned:  1 1\n",
            "vacume in this location now:  1 3\n",
            "cleaned:  1 3\n",
            "vacume in this location now:  2 0\n",
            "cleaned:  2 0\n",
            "vacume in this location now:  2 1\n",
            "cleaned:  2 1\n",
            "vacume in this location now:  2 2\n",
            "cleaned:  2 2\n",
            "vacume in this location now:  3 0\n",
            "cleaned:  3 0\n",
            "vacume in this location now:  3 1\n",
            "cleaned:  3 1\n",
            "vacume in this location now:  3 3\n",
            "cleaned:  3 3\n"
          ]
        }
      ]
    },
    {
      "cell_type": "code",
      "source": [
        "efficiency=((z/16)*100)\n",
        "performance=(100-((z/16)*100))\n",
        "print(\"Room is cleam now.. thanks for using the robot vacuum cleaner!!\")\n",
        "display(room)\n",
        "print('performance=',performance,'%')\n",
        "print('efficiency=',efficiency,'%')"
      ],
      "metadata": {
        "colab": {
          "base_uri": "https://localhost:8080/",
          "height": 86
        },
        "id": "NGZBOq6Iswj7",
        "outputId": "6c0d21c5-5d8d-4d65-fe35-98eb563f04cd"
      },
      "execution_count": null,
      "outputs": [
        {
          "output_type": "stream",
          "name": "stdout",
          "text": [
            "Room is cleam now.. thanks for using the robot vacuum cleaner!!\n"
          ]
        },
        {
          "output_type": "display_data",
          "data": {
            "text/plain": [
              "[[0, 0, 0, 0], [0, 0, 0, 0], [0, 0, 0, 0], [0, 0, 0, 0]]"
            ]
          },
          "metadata": {}
        },
        {
          "output_type": "stream",
          "name": "stdout",
          "text": [
            "performance= 43.75 %\n",
            "efficiency= 56.25 %\n"
          ]
        }
      ]
    },
    {
      "cell_type": "code",
      "source": [],
      "metadata": {
        "id": "9rx3duILtUq3"
      },
      "execution_count": null,
      "outputs": []
    }
  ]
}