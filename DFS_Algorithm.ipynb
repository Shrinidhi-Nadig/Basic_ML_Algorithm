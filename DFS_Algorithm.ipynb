{
  "nbformat": 4,
  "nbformat_minor": 0,
  "metadata": {
    "colab": {
      "provenance": [],
      "authorship_tag": "ABX9TyOu2UQpy/1ecU9g3KPbGGFR",
      "include_colab_link": true
    },
    "kernelspec": {
      "name": "python3",
      "display_name": "Python 3"
    },
    "language_info": {
      "name": "python"
    }
  },
  "cells": [
    {
      "cell_type": "markdown",
      "metadata": {
        "id": "view-in-github",
        "colab_type": "text"
      },
      "source": [
        "<a href=\"https://colab.research.google.com/github/Shrinidhi-Nadig/Basic_ML_Algorithm/blob/main/DFS_Algorithm.ipynb\" target=\"_parent\"><img src=\"https://colab.research.google.com/assets/colab-badge.svg\" alt=\"Open In Colab\"/></a>"
      ]
    },
    {
      "cell_type": "code",
      "execution_count": null,
      "metadata": {
        "colab": {
          "base_uri": "https://localhost:8080/"
        },
        "id": "8A6WkpQ55PhA",
        "outputId": "2f3345d5-733e-4139-de08-4df6ac63ebfa"
      },
      "outputs": [
        {
          "output_type": "stream",
          "name": "stdout",
          "text": [
            "DFS Traversal Oredr (Using Stack): \n",
            "a b d e c f "
          ]
        }
      ],
      "source": [
        "from collections import deque\n",
        "graph={\n",
        "    'a':['b','c'],\n",
        "    'b':['d','e'],\n",
        "    'c':['f'],\n",
        "    'd':[],\n",
        "    'e':[],\n",
        "    'f':[]\n",
        "}\n",
        "def DFS_Using_Stack(graph,start_node):\n",
        "  stack=[start_node]\n",
        "  visited=set()\n",
        "  while stack:\n",
        "    current_node=stack.pop()\n",
        "    if current_node not in visited:\n",
        "      print(current_node,end=\" \")\n",
        "      visited.add(current_node)\n",
        "      for neighbor in reversed(graph[current_node]):\n",
        "        if neighbor not in visited:\n",
        "          stack.append(neighbor)\n",
        "print(\"DFS Traversal Oredr (Using Stack): \")\n",
        "DFS_Using_Stack(graph,'a')"
      ]
    }
  ]
}