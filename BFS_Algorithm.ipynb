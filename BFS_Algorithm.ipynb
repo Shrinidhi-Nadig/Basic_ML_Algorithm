{
  "nbformat": 4,
  "nbformat_minor": 0,
  "metadata": {
    "colab": {
      "provenance": [],
      "authorship_tag": "ABX9TyPfhMyvT5VL19DABWFjo+Ou",
      "include_colab_link": true
    },
    "kernelspec": {
      "name": "python3",
      "display_name": "Python 3"
    },
    "language_info": {
      "name": "python"
    }
  },
  "cells": [
    {
      "cell_type": "markdown",
      "metadata": {
        "id": "view-in-github",
        "colab_type": "text"
      },
      "source": [
        "<a href=\"https://colab.research.google.com/github/Shrinidhi-Nadig/Basic_ML_Algorithm/blob/main/BFS_Algorithm.ipynb\" target=\"_parent\"><img src=\"https://colab.research.google.com/assets/colab-badge.svg\" alt=\"Open In Colab\"/></a>"
      ]
    },
    {
      "cell_type": "code",
      "execution_count": null,
      "metadata": {
        "id": "u2s4jrvKxI51"
      },
      "outputs": [],
      "source": [
        "from collections import deque\n",
        "graph={\n",
        "    'a':['b','c'],\n",
        "    'b':['d','e'],\n",
        "    'c':['f'],\n",
        "    'd':[],\n",
        "    'e':[],\n",
        "    'f':[]\n",
        "}"
      ]
    },
    {
      "cell_type": "code",
      "source": [
        "def bfs(graph,start_node):\n",
        "  visited=set()\n",
        "  queue=deque([start_node])\n",
        "  print(\"BFS Traversal Order: \")\n",
        "  while queue:\n",
        "    current_node=queue.popleft()\n",
        "    if current_node not in visited:\n",
        "      print(current_node,end=\" \")\n",
        "      visited.add(current_node)\n",
        "      for neighbor in graph[current_node]:\n",
        "        if neighbor not in visited:\n",
        "          queue.append(neighbor)\n",
        "\n",
        "bfs(graph,'a')"
      ],
      "metadata": {
        "colab": {
          "base_uri": "https://localhost:8080/"
        },
        "id": "I_eN0xUCzTxS",
        "outputId": "0c5f517d-7063-4f01-c357-80fe19fb45ae"
      },
      "execution_count": null,
      "outputs": [
        {
          "output_type": "stream",
          "name": "stdout",
          "text": [
            "BFS Traversal Order: \n",
            "a b c d e f "
          ]
        }
      ]
    }
  ]
}